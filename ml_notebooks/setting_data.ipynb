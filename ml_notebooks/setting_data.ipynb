{
 "cells": [
  {
   "cell_type": "code",
   "execution_count": 3,
   "metadata": {},
   "outputs": [],
   "source": [
    "import os"
   ]
  },
  {
   "cell_type": "code",
   "execution_count": 22,
   "metadata": {},
   "outputs": [],
   "source": [
    "bread=\"../image_data/cat/train/apitite_loss\"\n",
    "bread_test=\"../image_data/cat/test/apitite_loss\""
   ]
  },
  {
   "cell_type": "code",
   "execution_count": 23,
   "metadata": {},
   "outputs": [
    {
     "name": "stdout",
     "output_type": "stream",
     "text": [
      "302\n",
      "84\n"
     ]
    }
   ],
   "source": [
    "print(len(os.listdir(bread)))\n",
    "print(len(os.listdir(bread_test)))"
   ]
  },
  {
   "cell_type": "code",
   "execution_count": 8,
   "metadata": {},
   "outputs": [],
   "source": [
    "chai=\"../data/train/chai\"\n",
    "chai_test=\"../data/test/chai\""
   ]
  },
  {
   "cell_type": "code",
   "execution_count": 12,
   "metadata": {},
   "outputs": [
    {
     "name": "stdout",
     "output_type": "stream",
     "text": [
      "319\n",
      "62\n"
     ]
    }
   ],
   "source": [
    "print(len(os.listdir(chai)))\n",
    "print(len(os.listdir(chai_test)))"
   ]
  },
  {
   "cell_type": "code",
   "execution_count": 13,
   "metadata": {},
   "outputs": [],
   "source": [
    "rice=\"../data/train/rice\"\n",
    "rice_test=\"../data/test/rice\""
   ]
  },
  {
   "cell_type": "code",
   "execution_count": 15,
   "metadata": {},
   "outputs": [
    {
     "name": "stdout",
     "output_type": "stream",
     "text": [
      "334\n",
      "69\n"
     ]
    }
   ],
   "source": [
    "print(len(os.listdir(rice)))\n",
    "print(len(os.listdir(rice_test)))"
   ]
  },
  {
   "cell_type": "code",
   "execution_count": 17,
   "metadata": {},
   "outputs": [],
   "source": [
    "y_d=\"../data/train/yellow_dal\"\n",
    "y_d_test=\"../data/test/yellow_dal\""
   ]
  },
  {
   "cell_type": "code",
   "execution_count": 19,
   "metadata": {},
   "outputs": [
    {
     "name": "stdout",
     "output_type": "stream",
     "text": [
      "295\n",
      "51\n"
     ]
    }
   ],
   "source": [
    "print(len(os.listdir(y_d)))\n",
    "print(len(os.listdir(y_d_test)))"
   ]
  },
  {
   "cell_type": "code",
   "execution_count": 20,
   "metadata": {},
   "outputs": [],
   "source": [
    "y_d=\"../data/train/egg_boiled\"\n",
    "y_d_test=\"../data/test/egg_boiled\""
   ]
  },
  {
   "cell_type": "code",
   "execution_count": 23,
   "metadata": {},
   "outputs": [
    {
     "name": "stdout",
     "output_type": "stream",
     "text": [
      "366\n",
      "80\n"
     ]
    }
   ],
   "source": [
    "print(len(os.listdir(y_d)))\n",
    "print(len(os.listdir(y_d_test)))"
   ]
  },
  {
   "cell_type": "code",
   "execution_count": 24,
   "metadata": {},
   "outputs": [],
   "source": [
    "y_d=\"../data/train/egg_omlet\"\n",
    "y_d_test=\"../data/test/egg_omlet\""
   ]
  },
  {
   "cell_type": "code",
   "execution_count": 28,
   "metadata": {},
   "outputs": [
    {
     "name": "stdout",
     "output_type": "stream",
     "text": [
      "394\n",
      "85\n"
     ]
    }
   ],
   "source": [
    "print(len(os.listdir(y_d)))\n",
    "print(len(os.listdir(y_d_test)))"
   ]
  },
  {
   "cell_type": "code",
   "execution_count": 29,
   "metadata": {},
   "outputs": [],
   "source": [
    "y_d=\"../data/train/roti\"\n",
    "y_d_test=\"../data/test/roti\""
   ]
  },
  {
   "cell_type": "code",
   "execution_count": 30,
   "metadata": {},
   "outputs": [
    {
     "name": "stdout",
     "output_type": "stream",
     "text": [
      "265\n",
      "58\n"
     ]
    }
   ],
   "source": [
    "print(len(os.listdir(y_d)))\n",
    "print(len(os.listdir(y_d_test)))"
   ]
  },
  {
   "cell_type": "code",
   "execution_count": null,
   "metadata": {},
   "outputs": [],
   "source": []
  }
 ],
 "metadata": {
  "kernelspec": {
   "display_name": "Python 3",
   "language": "python",
   "name": "python3"
  },
  "language_info": {
   "codemirror_mode": {
    "name": "ipython",
    "version": 3
   },
   "file_extension": ".py",
   "mimetype": "text/x-python",
   "name": "python",
   "nbconvert_exporter": "python",
   "pygments_lexer": "ipython3",
   "version": "3.7.9"
  }
 },
 "nbformat": 4,
 "nbformat_minor": 4
}
