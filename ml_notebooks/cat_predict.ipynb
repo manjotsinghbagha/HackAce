{
 "cells": [
  {
   "cell_type": "code",
   "execution_count": 1,
   "metadata": {},
   "outputs": [],
   "source": [
    "import matplotlib.pyplot as plt\n",
    "import tensorflow as tf\n",
    "from tensorflow.keras.models import load_model\n",
    "import tensorflowjs as tfjs\n",
    "\n",
    "%matplotlib inline"
   ]
  },
  {
   "cell_type": "code",
   "execution_count": 2,
   "metadata": {},
   "outputs": [],
   "source": [
    "import tensorflow as tf\n",
    "from tensorflow.keras.models import Model\n",
    "from tensorflow.keras.layers import Dense, Dropout, GlobalAveragePooling2D, Flatten, Conv2D, MaxPooling2D\n",
    "from tensorflow.keras.models import load_model\n",
    "from tensorflow.keras.optimizers import Adam, SGD\n",
    "from tensorflow.keras.preprocessing.image import ImageDataGenerator\n",
    "from tensorflow.python.keras.utils.vis_utils import plot_model"
   ]
  },
  {
   "cell_type": "code",
   "execution_count": 3,
   "metadata": {},
   "outputs": [],
   "source": [
    "# # for reference to be used in backend\n",
    "# def model_with_function():\n",
    "    \n",
    "#     input_layer = tf.keras.Input(shape=(224,224,3))\n",
    "#     conv1 = Conv2D(64, (3,3), activation='relu')(input_layer)\n",
    "#     pool_1 = MaxPooling2D(2,2)(conv1)\n",
    "    \n",
    "#     conv2 = Conv2D(128, (3,3), activation='relu')(pool_1)\n",
    "#     pool_2 = MaxPooling2D(2,2)(conv2)\n",
    "    \n",
    "#     conv3 = Conv2D(128, (3,3), activation ='relu')(pool_2)\n",
    "#     pool_3 = MaxPooling2D(2,2)(conv3)\n",
    "    \n",
    "#     flatten_layer= tf.keras.layers.Flatten()(pool_3)\n",
    "#     first_dense = tf.keras.layers.Dense(128, activation=tf.nn.relu)(flatten_layer)\n",
    "#     output_layer= tf.keras.layers.Dense(5, activation=tf.nn.softmax)(first_dense)\n",
    "    \n",
    "#     func_model = Model(inputs=input_layer, outputs=output_layer)\n",
    "    \n",
    "#     return func_model"
   ]
  },
  {
   "cell_type": "code",
   "execution_count": 4,
   "metadata": {},
   "outputs": [],
   "source": [
    "model = load_model('./cat_model/')"
   ]
  },
  {
   "cell_type": "code",
   "execution_count": 5,
   "metadata": {},
   "outputs": [
    {
     "name": "stderr",
     "output_type": "stream",
     "text": [
      "/home/vaibhav/anaconda3/envs/hackathon/lib/python3.7/site-packages/tensorflowjs/converters/keras_h5_conversion.py:123: H5pyDeprecationWarning: The default file mode will change to 'r' (read-only) in h5py 3.0. To suppress this warning, pass the mode you need to h5py.File(), or set the global default h5.get_config().default_file_mode, or set the environment variable H5PY_DEFAULT_READONLY=1. Available modes are: 'r', 'r+', 'w', 'w-'/'x', 'a'. See the docs for details.\n",
      "  return h5py.File(h5file)\n"
     ]
    }
   ],
   "source": [
    "tfjs.converters.save_keras_model(model, 'model_cat')"
   ]
  },
  {
   "cell_type": "code",
   "execution_count": 6,
   "metadata": {},
   "outputs": [],
   "source": [
    "# sample labels\n",
    "labels=[\"apetite_loss\",\"hair_loss\", \"patch\", \"ticks\", \"watery_eyes\"]"
   ]
  },
  {
   "cell_type": "code",
   "execution_count": 23,
   "metadata": {},
   "outputs": [
    {
     "name": "stdout",
     "output_type": "stream",
     "text": [
      "patch\n"
     ]
    }
   ],
   "source": [
    "import numpy as np\n",
    "from tensorflow.keras.preprocessing import image\n",
    "# path = input()\n",
    "# path =uploaded\n",
    "path=\"../image_data/cat/train/patch/36.jpg\"\n",
    "img= image.load_img(path,target_size=(224,224))\n",
    "x= image.img_to_array(img)\n",
    "x=np.expand_dims(x, axis=0)\n",
    "\n",
    "images=np.vstack([x])\n",
    "classes=model.predict(images, batch_size=10)\n",
    "cout=0\n",
    "for i in range(4):\n",
    "    if classes[0][i]>classes[0][i+1]:\n",
    "        classes[0][i+1]=classes[0][i]\n",
    "    else:\n",
    "        cout+=1\n",
    "print(labels[cout])\n"
   ]
  },
  {
   "cell_type": "code",
   "execution_count": null,
   "metadata": {},
   "outputs": [],
   "source": []
  }
 ],
 "metadata": {
  "kernelspec": {
   "display_name": "Python 3",
   "language": "python",
   "name": "python3"
  },
  "language_info": {
   "codemirror_mode": {
    "name": "ipython",
    "version": 3
   },
   "file_extension": ".py",
   "mimetype": "text/x-python",
   "name": "python",
   "nbconvert_exporter": "python",
   "pygments_lexer": "ipython3",
   "version": "3.7.9"
  }
 },
 "nbformat": 4,
 "nbformat_minor": 4
}
